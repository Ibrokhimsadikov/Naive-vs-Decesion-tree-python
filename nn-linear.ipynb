{
 "cells": [
  {
   "cell_type": "code",
   "execution_count": 19,
   "metadata": {},
   "outputs": [],
   "source": [
    "%matplotlib inline\n",
    "import sklearn\n",
    "#import graphviz\n",
    "#import sklearn.tree\n",
    "import numpy as np\n",
    "#from StringIO import StringIO\n",
    "import matplotlib.pyplot as plt"
   ]
  },
  {
   "cell_type": "code",
   "execution_count": 10,
   "metadata": {
    "collapsed": true
   },
   "outputs": [],
   "source": [
    "col_names = \"rain,hot temp.,mild temp.,High Humidity,Strong winds,playTennis\"\n",
    "my_tennis_data = np.array([[0, 1, 0, 1, 0, 0],\n",
    "       [0, 1, 0, 1, 1, 0],\n",
    "       [1, 0, 1, 1, 0, 1],\n",
    "       [1, 0, 0, 0, 0, 1],\n",
    "       [1, 0, 0, 0, 1, 0],\n",
    "       [0, 0, 1, 1, 0, 1],\n",
    "       [0, 0, 0, 0, 0, 1],\n",
    "       [1, 0, 1, 0, 0, 1],\n",
    "       [0, 0, 1, 0, 1, 1],\n",
    "       [1, 0, 1, 1, 1, 0]])"
   ]
  },
  {
   "cell_type": "code",
   "execution_count": 3,
   "metadata": {},
   "outputs": [
    {
     "data": {
      "text/plain": [
       "array([[0, 1, 0, 1, 0, 0],\n",
       "       [0, 1, 0, 1, 1, 0],\n",
       "       [1, 0, 1, 1, 0, 1],\n",
       "       [1, 0, 0, 0, 0, 1],\n",
       "       [1, 0, 0, 0, 1, 0],\n",
       "       [0, 0, 1, 1, 0, 1],\n",
       "       [0, 0, 0, 0, 0, 1],\n",
       "       [1, 0, 1, 0, 0, 1],\n",
       "       [0, 0, 1, 0, 1, 1],\n",
       "       [1, 0, 1, 1, 1, 0]])"
      ]
     },
     "execution_count": 3,
     "metadata": {},
     "output_type": "execute_result"
    }
   ],
   "source": [
    "my_tennis_data"
   ]
  },
  {
   "cell_type": "code",
   "execution_count": 11,
   "metadata": {
    "collapsed": true
   },
   "outputs": [],
   "source": [
    "### select all rows except last column\n",
    "X_matrix = my_tennis_data[:, :-1] \n",
    "feature_names = np.array(col_names.split(\",\")[:-1])\n",
    "#feature_names = [\"Outlook\", \"Temp\", \"Humidity\", \"Wind\"]\n",
    "### select last column\n",
    "Y = my_tennis_data[:, -1]\n",
    "label_name = [\"Dont play Tennis\", \"Play Tennis\"]"
   ]
  },
  {
   "cell_type": "code",
   "execution_count": 12,
   "metadata": {},
   "outputs": [
    {
     "data": {
      "text/plain": [
       "KNeighborsClassifier(algorithm='auto', leaf_size=30, metric='minkowski',\n",
       "           metric_params=None, n_jobs=1, n_neighbors=5, p=2,\n",
       "           weights='uniform')"
      ]
     },
     "execution_count": 12,
     "metadata": {},
     "output_type": "execute_result"
    }
   ],
   "source": [
    "from sklearn import neighbors\n",
    "knearest_clf = neighbors.KNeighborsClassifier(n_neighbors=5, weights='uniform') # Keep varying k by changing n_neighbors\n",
    "knearest_clf.fit(X_matrix, Y)"
   ]
  },
  {
   "cell_type": "code",
   "execution_count": 13,
   "metadata": {},
   "outputs": [
    {
     "name": "stdout",
     "output_type": "stream",
     "text": [
      "predicted: [1 1]\n",
      "truth [1 0]\n"
     ]
    }
   ],
   "source": [
    "print \"predicted:\", knearest_clf.predict(X_matrix[-2:,:])\n",
    "print \"truth\", Y[-2:]"
   ]
  },
  {
   "cell_type": "code",
   "execution_count": 25,
   "metadata": {},
   "outputs": [
    {
     "name": "stdout",
     "output_type": "stream",
     "text": [
      "(442,)\n"
     ]
    }
   ],
   "source": [
    "from sklearn import datasets, linear_model\n",
    "diabetes = datasets.load_diabetes()\n",
    "\n",
    "#Loading data for the X (We will use only one feature here)\n",
    "diabetes_X = diabetes.data[:, 2]\n",
    "print diabetes_X.shape"
   ]
  },
  {
   "cell_type": "code",
   "execution_count": 26,
   "metadata": {},
   "outputs": [
    {
     "name": "stdout",
     "output_type": "stream",
     "text": [
      "(442, 1)\n"
     ]
    }
   ],
   "source": [
    "diabetes_X = diabetes_X[:,np.newaxis]\n",
    "print diabetes_X.shape"
   ]
  },
  {
   "cell_type": "code",
   "execution_count": 27,
   "metadata": {},
   "outputs": [
    {
     "name": "stdout",
     "output_type": "stream",
     "text": [
      "('Coefficients:', array([ 938.23786125]))\n",
      "Residual sum of squares: 2548.07\n",
      "Variance score: 0.47\n"
     ]
    },
    {
     "data": {
      "image/png": "[encoded data removed]",
      "text/plain": [
       "<matplotlib.figure.Figure at 0x1135d0d90>"
      ]
     },
     "metadata": {},
     "output_type": "display_data"
    }
   ],
   "source": [
    "#Splitting training and testing data (features)\n",
    "diabetes_X_train = diabetes_X[:-20]\n",
    "diabetes_X_test = diabetes_X[-20:]\n",
    "\n",
    "#Splitting training and testing data (target)\n",
    "diabetes_y_train = diabetes.target[:-20]\n",
    "diabetes_y_test = diabetes.target[-20:]\n",
    "\n",
    "# Linear regression\n",
    "# Create linear regression object\n",
    "regr = linear_model.LinearRegression()\n",
    "\n",
    "# Train the model using the training sets\n",
    "regr.fit(diabetes_X_train, diabetes_y_train)\n",
    "\n",
    "# The coefficients\n",
    "print('Coefficients:', regr.coef_)\n",
    "# The mean square error\n",
    "print(\"Residual sum of squares: %.2f\"\n",
    "      % np.mean((regr.predict(diabetes_X_test) - diabetes_y_test) ** 2))\n",
    "# Explained variance score: 1 is perfect prediction\n",
    "print('Variance score: %.2f' % regr.score(diabetes_X_test, diabetes_y_test))\n",
    "\n",
    "# Plot outputs\n",
    "plt.scatter(diabetes_X_test, diabetes_y_test,  color='black')\n",
    "plt.plot(diabetes_X_test, regr.predict(diabetes_X_test), color='blue',\n",
    "         linewidth=3)\n",
    "\n",
    "plt.xticks(())\n",
    "plt.yticks(())\n",
    "\n",
    "plt.show()"
   ]
  },
  {
   "cell_type": "code",
   "execution_count": 17,
   "metadata": {},
   "outputs": [
    {
     "name": "stdout",
     "output_type": "stream",
     "text": [
      "Residual sum of squares: 2807.74\n",
      "Variance score: 0.42\n"
     ]
    }
   ],
   "source": [
    "knn_regression = neighbors.KNeighborsRegressor(n_neighbors=4, weights='uniform')\n",
    "knn_regression.fit(diabetes_X_train, diabetes_y_train)\n",
    "\n",
    "print(\"Residual sum of squares: %.2f\"\n",
    "      % np.mean((knn_regression.predict(diabetes_X_test) - diabetes_y_test) ** 2))\n",
    "print('Variance score: %.2f' % knn_regression.score(diabetes_X_test, diabetes_y_test))"
   ]
  },
  {
   "cell_type": "code",
   "execution_count": 28,
   "metadata": {},
   "outputs": [
    {
     "name": "stdout",
     "output_type": "stream",
     "text": [
      "[[ 0.10839577  0.40353485  0.48806938]\n",
      " [ 0.0053336   0.43570616  0.55896024]\n",
      " [ 0.90644459  0.05829804  0.03525736]\n",
      " [ 0.00378484  0.36302006  0.6331951 ]\n",
      " [ 0.78729706  0.13385282  0.07885012]\n",
      " [ 0.22629066  0.31851887  0.45519048]\n",
      " [ 0.81642242  0.11753549  0.06604209]\n",
      " [ 0.04124046  0.35879338  0.59996616]\n",
      " [ 0.00883417  0.37948209  0.61168374]\n",
      " [ 0.05266304  0.40105094  0.54628601]\n",
      " [ 0.02256388  0.4146964   0.56273972]\n",
      " [ 0.12852257  0.34723611  0.52424132]\n",
      " [ 0.05266304  0.40105094  0.54628601]\n",
      " [ 0.01906628  0.38822097  0.59271275]\n",
      " [ 0.07951798  0.39048752  0.5299945 ]\n",
      " [ 0.6861424   0.19257988  0.12127772]\n",
      " [ 0.10081343  0.39040689  0.50877968]\n",
      " [ 0.09938691  0.4303138   0.47029928]\n",
      " [ 0.66115411  0.20997991  0.12886599]\n",
      " [ 0.86503423  0.08236233  0.05260344]\n",
      " [ 0.16809436  0.39615019  0.43575545]\n",
      " [ 0.31443134  0.3351939   0.35037475]\n",
      " [ 0.81481071  0.12309655  0.06209274]\n",
      " [ 0.71236552  0.19467493  0.09295955]\n",
      " [ 0.04098338  0.39823618  0.56078044]\n",
      " [ 0.87473506  0.09013254  0.03513241]\n",
      " [ 0.87199483  0.08377188  0.0442333 ]\n",
      " [ 0.06231053  0.38923531  0.54845416]\n",
      " [ 0.0979071   0.46783933  0.43425356]\n",
      " [ 0.78729706  0.13385282  0.07885012]]\n",
      "[[11  0  0]\n",
      " [ 0  1 12]\n",
      " [ 0  0  6]]\n",
      "             precision    recall  f1-score   support\n",
      "\n",
      "          0       1.00      1.00      1.00        11\n",
      "          1       1.00      0.08      0.14        13\n",
      "          2       0.33      1.00      0.50         6\n",
      "\n",
      "avg / total       0.87      0.60      0.53        30\n",
      "\n"
     ]
    }
   ],
   "source": [
    "from sklearn import linear_model, datasets\n",
    "from sklearn.cross_validation import train_test_split\n",
    "from sklearn import metrics\n",
    "\n",
    "# import some data to play with\n",
    "iris = datasets.load_iris()\n",
    "X = iris.data[:, :2]  # we only take the first two features.\n",
    "y = iris.target\n",
    "\n",
    "logreg = linear_model.LogisticRegression()\n",
    "X_train, X_test, y_train, y_test = train_test_split(X, y, test_size=0.2, random_state=0)\n",
    "\n",
    "logreg.fit(X_train, y_train)\n",
    "probs = logreg.predict_proba(X_test)\n",
    "print probs\n",
    "\n",
    "predicted = logreg.predict(X_test)\n",
    "\n",
    "print metrics.confusion_matrix(y_test, predicted)\n",
    "print metrics.classification_report(y_test, predicted)"
   ]
  },
  {
   "cell_type": "code",
   "execution_count": null,
   "metadata": {
    "collapsed": true
   },
   "outputs": [],
   "source": []
  }
 ],
 "metadata": {
  "anaconda-cloud": {},
  "kernelspec": {
   "display_name": "Python 3",
   "language": "python",
   "name": "python3"
  },
  "language_info": {
   "codemirror_mode": {
    "name": "ipython",
    "version": 3
   },
   "file_extension": ".py",
   "mimetype": "text/x-python",
   "name": "python",
   "nbconvert_exporter": "python",
   "pygments_lexer": "ipython3",
   "version": "3.7.3"
  }
 },
 "nbformat": 4,
 "nbformat_minor": 1
}
